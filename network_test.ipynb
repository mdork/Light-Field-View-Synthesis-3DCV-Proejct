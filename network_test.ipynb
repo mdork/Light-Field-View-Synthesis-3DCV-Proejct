{
 "cells": [
  {
   "cell_type": "code",
   "execution_count": null,
   "metadata": {},
   "outputs": [],
   "source": [
    "import numpy as np, os, sys, pandas as pd, ast, time, gc\n",
    "import torch, torch.nn as nn, pickle as pkl, random\n",
    "from tqdm import tqdm, trange\n",
    "import network as net\n",
    "import auxiliaries as aux\n",
    "import loss as Loss\n",
    "import dataloader as dloader\n",
    "import argparse\n",
    "from distutils.dir_util import copy_tree\n",
    "from datetime import datetime"
   ]
  },
  {
   "cell_type": "code",
   "execution_count": null,
   "metadata": {},
   "outputs": [],
   "source": [
    "import auxiliaries as aux\n",
    "opt = aux.extract_setup_info('setup_valen.txt')[0] # Add your own setup file here\n",
    "gpu = opt.Training['GPU'] if torch.cuda.is_available() else []\n",
    "device = torch.device('cuda:{}'.format(gpu[0])) if gpu and torch.cuda.is_available() else torch.device('cpu')\n",
    "opt.Network['device'] = device"
   ]
  },
  {
   "cell_type": "code",
   "execution_count": null,
   "metadata": {},
   "outputs": [],
   "source": [
    "# Dataloader\n",
    "train_dataset     = dloader.dataset(opt, mode='train')\n",
    "train_data_loader = torch.utils.data.DataLoader(train_dataset, batch_size=1, shuffle=False)"
   ]
  },
  {
   "cell_type": "code",
   "execution_count": null,
   "metadata": {},
   "outputs": [],
   "source": [
    "# Example data\n",
    "batch = next(iter(train_data_loader))\n",
    "x = batch[\"x\"].type(torch.FloatTensor).transpose(1, 2).to(device)\n",
    "x_mask = batch[\"x_mask\"].type(torch.FloatTensor).transpose(1, 2).to(device)"
   ]
  },
  {
   "cell_type": "code",
   "execution_count": null,
   "metadata": {},
   "outputs": [],
   "source": [
    "# Network\n",
    "network = net.VAE(opt.Network).to(device)"
   ]
  },
  {
   "cell_type": "code",
   "execution_count": null,
   "metadata": {},
   "outputs": [],
   "source": [
    "# Example Output\n",
    "img_recon, mu, covar = network(x)"
   ]
  }
 ],
 "metadata": {
  "kernelspec": {
   "display_name": "Python 3",
   "language": "python",
   "name": "python3"
  },
  "language_info": {
   "codemirror_mode": {
    "name": "ipython",
    "version": 3
   },
   "file_extension": ".py",
   "mimetype": "text/x-python",
   "name": "python",
   "nbconvert_exporter": "python",
   "pygments_lexer": "ipython3",
   "version": "3.7.7"
  }
 },
 "nbformat": 4,
 "nbformat_minor": 4
}
